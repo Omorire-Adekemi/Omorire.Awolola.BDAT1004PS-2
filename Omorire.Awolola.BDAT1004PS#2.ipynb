{
 "cells": [
  {
   "cell_type": "markdown",
   "id": "38ac6407-f6cb-457a-b541-b7f8203edc71",
   "metadata": {},
   "source": [
    "# QUESTION 1"
   ]
  },
  {
   "cell_type": "markdown",
   "id": "d53b9d34-ad7c-4e51-b1c7-640cc87483cf",
   "metadata": {},
   "source": [
    "Consider the following Python module:\n",
    "a = 0\n",
    "def b():\n",
    "    global a\n",
    "    a = c(a)\n",
    "def c(a):\n",
    "    return a + 2\n",
    "After importing the module into the interpreter, you execute:\n",
    "\n",
    ">>> b()\n",
    ">>> b()\n",
    ">>> b()\n",
    ">>> a?\n",
    "\n",
    "What value is displayed when the last expression (a) is evaluated? Explain youranswer by indicating what happens in every executed statement."
   ]
  },
  {
   "cell_type": "code",
   "execution_count": 5,
   "id": "0a1388d5-8cc7-4daf-9843-15bc6284edba",
   "metadata": {},
   "outputs": [],
   "source": [
    "a = 0\n",
    "def b():\n",
    "    global a\n",
    "    a = c(a)\n",
    "    print(a)\n",
    "def c(a):\n",
    "    return a+2"
   ]
  },
  {
   "cell_type": "code",
   "execution_count": 7,
   "id": "157e4e3a-dd04-4c2e-bdca-8b1ae9d6164a",
   "metadata": {},
   "outputs": [
    {
     "name": "stdout",
     "output_type": "stream",
     "text": [
      "8\n",
      "10\n",
      "12\n"
     ]
    }
   ],
   "source": [
    "b()\n",
    "b()\n",
    "b()"
   ]
  },
  {
   "cell_type": "code",
   "execution_count": 9,
   "id": "50581be4-296e-46c6-a694-9dd7440a1409",
   "metadata": {},
   "outputs": [
    {
     "data": {
      "text/plain": [
       "12"
      ]
     },
     "execution_count": 9,
     "metadata": {},
     "output_type": "execute_result"
    }
   ],
   "source": [
    "a"
   ]
  },
  {
   "cell_type": "raw",
   "id": "49f6d15d-2b8f-470a-8efe-9032fd19be07",
   "metadata": {},
   "source": [
    "Explanation: Initially, the variable 'a' is set to 0. After the first execution of the function b(), the value of 'a' is updated to the result of c(a), which is a+2 (0+2), resulting in the first output of 2. Subsequently, with each execution of b(), the value of 'a' is modified, and the outputs follow the pattern 4 and 6. In summary, after each execution, the variable 'a' is altered, and when 'a' is evaluated at the end, it returns the value 6."
   ]
  },
  {
   "cell_type": "markdown",
   "id": "540547a1-455c-45e0-914b-1ee2cfd1529f",
   "metadata": {},
   "source": [
    "# QUESTION 2"
   ]
  },
  {
   "cell_type": "markdown",
   "id": "3b347612-f1d0-40e4-a0a8-056327ab1a77",
   "metadata": {},
   "source": [
    "Function fileLength(), given to you, takes the name of a file as input and returnsthe length of the file:\n",
    ">>> fileLength('midterm.py')\n",
    "284\n",
    ">>> fileLength('idterm.py')\n",
    "Traceback (most recent call last):\n",
    "    File \"<pyshell#34>\", line 1, in <module>\n",
    "      fileLength('idterm.py')\n",
    "    File \"/Users/me/midterm.py\", line 3, in fileLength\n",
    "      infile = open(filename)\n",
    "FileNotFoundError: [Errno 2] No such file or directory:\n",
    "'idterm.py'\n",
    "As shown above, if the file cannot be found by the interpreter or if it cannot be readas a text file, an exception will be raised. Modify function fileLength() so that afriendly message is printed instead:\n",
    ">>> fileLength('midterm.py')358\n",
    ">>> fileLength('idterm.py')\n",
    "File idterm.py not found."
   ]
  },
  {
   "cell_type": "code",
   "execution_count": 18,
   "id": "a23b372d-403d-4ab1-b5f6-4ca5addd6e94",
   "metadata": {},
   "outputs": [],
   "source": [
    "def fileLength(fileName):\n",
    "\n",
    "    try:\n",
    "        file = open(fileName)\n",
    "    except FileNotFoundError as e:\n",
    "        print(\"The file {0} not found\".format(fileName))\n",
    "        return\n",
    "    intepret_file = file.read()\n",
    "    print(len(intepret_file))"
   ]
  },
  {
   "cell_type": "code",
   "execution_count": 20,
   "id": "dab3a7dd-53f0-4245-aaeb-a7607f94efa3",
   "metadata": {},
   "outputs": [
    {
     "name": "stdout",
     "output_type": "stream",
     "text": [
      "123\n"
     ]
    }
   ],
   "source": [
    "fileLength(\"Filelength.txt\")"
   ]
  },
  {
   "cell_type": "code",
   "execution_count": 21,
   "id": "eb48a777-25a7-4e4c-9e7c-7ceef26a90ae",
   "metadata": {},
   "outputs": [
    {
     "name": "stdout",
     "output_type": "stream",
     "text": [
      "The file Filelength.py not found\n"
     ]
    }
   ],
   "source": [
    "fileLength(\"Filelength.py\")"
   ]
  },
  {
   "cell_type": "markdown",
   "id": "2780512e-8185-4fb2-8add-99603b0e376f",
   "metadata": {},
   "source": [
    "# Question No 3"
   ]
  },
  {
   "cell_type": "raw",
   "id": "1ad697d8-ba89-41df-ad2c-668570f56c66",
   "metadata": {},
   "source": [
    "Write a class named Marsupial that can be used as shown below:\n",
    ">>> m = Marsupial()\n",
    ">>> m.put_in_pouch('doll')\n",
    ">>> m.put_in_pouch('firetruck')\n",
    ">>> m.put_in_pouch('kitten')\n",
    ">>> m.pouch_contents()['doll', 'firetruck', 'kitten']\n",
    "\n",
    "Now write a class named Kangaroo as a subclass of Marsupial that inherits all theattributes of Marsupial and also:\n",
    "a. extends the Marsupial __init__ constructor to take, as input, thecoordinates x and y of the Kangaroo object,\n",
    "b. supports method jump that takes number values dx and dy as input andmoves the kangaroo by dx units along the x-axis and by dy units along the y-axis, and\n",
    "c. overloads the __str__ operator so it behaves as shown below.\n",
    "\n",
    ">>> k = Kangaroo(0,0)\n",
    ">>> print(k)\n",
    "I am a Kangaroo located at coordinates (0,0)\n",
    ">>> k.put_in_pouch('doll')\n",
    ">>> k.put_in_pouch('firetruck')\n",
    ">>> k.put_in_pouch('kitten')\n",
    ">>> k.pouch_contents()\n",
    "['doll', 'firetruck', 'kitten']\n",
    ">>> k.jump(1,0)\n",
    ">>> k.jump(1,0)\n",
    ">>> k.jump(1,0)\n",
    ">>> print(k)\n",
    "I am a Kangaroo located at coordinates (3,0)"
   ]
  },
  {
   "cell_type": "code",
   "execution_count": 39,
   "id": "24d80d03-68ba-4508-83e8-45434005c4ce",
   "metadata": {},
   "outputs": [],
   "source": [
    "class Marsupial:\n",
    "    def __init__(self):\n",
    "        self.pouch = [] \n",
    "\n",
    "    def put_in_pouch(self, item):\n",
    "        self.pouch.append(item)\n",
    "\n",
    "    def pouch_contents(self):\n",
    "        return self.pouch\n",
    "\n",
    "class Kangaroo(Marsupial):\n",
    "    def __init__(self, x, y):\n",
    "        super().__init__()\n",
    "        self.x = x\n",
    "        self.y = y\n",
    "\n",
    "    def jump(self, dx, dy):\n",
    "        self.x += dx\n",
    "        self.y += dy\n",
    "\n",
    "    def __str__(self):\n",
    "        return f\"I am a Kangaroo located at coordinates ({self.x},{self.y})\""
   ]
  },
  {
   "cell_type": "code",
   "execution_count": 40,
   "id": "f346fb87-94c2-4b74-b4e9-33efc5fd80ae",
   "metadata": {},
   "outputs": [
    {
     "name": "stdout",
     "output_type": "stream",
     "text": [
      "I am a Kangaroo located at coordinates (0,0)\n"
     ]
    }
   ],
   "source": [
    "m = Marsupial()\n",
    "m.put_in_pouch(\"doll\")\n",
    "m.put_in_pouch(\"firetruck\")\n",
    "m.put_in_pouch(\"kitten\")\n",
    "m.pouch_contents()\n",
    "k= Kangaroo(0,0)\n",
    "print(k)"
   ]
  },
  {
   "cell_type": "code",
   "execution_count": 41,
   "id": "3f5db4d0-f960-4a7f-a42c-ac2efd50f9b7",
   "metadata": {},
   "outputs": [
    {
     "data": {
      "text/plain": [
       "['doll', 'firetruck', 'kitten']"
      ]
     },
     "execution_count": 41,
     "metadata": {},
     "output_type": "execute_result"
    }
   ],
   "source": [
    "k.put_in_pouch(\"doll\")\n",
    "k.put_in_pouch(\"firetruck\")\n",
    "k.put_in_pouch(\"kitten\")\n",
    "k.pouch_contents()"
   ]
  },
  {
   "cell_type": "code",
   "execution_count": 42,
   "id": "16068047-a80c-488d-9710-84e0db6748b5",
   "metadata": {},
   "outputs": [
    {
     "name": "stdout",
     "output_type": "stream",
     "text": [
      "I am a Kangaroo located at coordinates (3,0)\n"
     ]
    }
   ],
   "source": [
    "k.jump(1,0)\n",
    "k.jump(1,0)\n",
    "k.jump(1,0)\n",
    "print(k)"
   ]
  },
  {
   "cell_type": "markdown",
   "id": "386b23a2-dc08-44cb-b353-54553f057a40",
   "metadata": {},
   "source": [
    "# Question No 4"
   ]
  },
  {
   "cell_type": "raw",
   "id": "9478a44b-df58-4bbb-95f7-630279374e1c",
   "metadata": {},
   "source": [
    "Write function collatz() that takes a positive integer x as input and prints theCollatz sequence starting at x. A Collatz sequence is obtained by repeatedly applyingthis rule to the previous number x in the sequence:\n",
    "\n",
    "        x = { 𝑥/2 𝑖𝑓 𝑥 𝑖𝑠 𝑒𝑣𝑒𝑛3𝑥 + 1 𝑖𝑓 𝑥 𝑖𝑠 𝑜𝑑𝑑\n",
    "\n",
    "Your function should stop when the sequence gets to number 1. Yourimplementation must be recursive, without any loops.\n",
    ">>> collatz(1)\n",
    "1\n",
    ">>> collatz(10)\n",
    "10\n",
    "5\n",
    "16\n",
    "8\n",
    "4\n",
    "2\n",
    "1"
   ]
  },
  {
   "cell_type": "code",
   "execution_count": 47,
   "id": "85211322-7980-43fe-9387-a29b668c8bd2",
   "metadata": {},
   "outputs": [],
   "source": [
    "def collatz(x):\n",
    "    print(x, end=' ')\n",
    "    if x == 1:\n",
    "        return\n",
    "    elif x % 2 == 0:\n",
    "        return collatz(x // 2)\n",
    "    else:\n",
    "        return collatz(3 * x + 1)"
   ]
  },
  {
   "cell_type": "code",
   "execution_count": 48,
   "id": "4f9f1f14-c490-4025-8adf-e3fb9cd7cc1e",
   "metadata": {},
   "outputs": [
    {
     "name": "stdout",
     "output_type": "stream",
     "text": [
      "1 "
     ]
    }
   ],
   "source": [
    "collatz(1)"
   ]
  },
  {
   "cell_type": "code",
   "execution_count": 49,
   "id": "4f1f6694-94c2-4bc5-8ea8-6b8cc822e341",
   "metadata": {},
   "outputs": [
    {
     "name": "stdout",
     "output_type": "stream",
     "text": [
      "10 5 16 8 4 2 1 "
     ]
    }
   ],
   "source": [
    "collatz(10)"
   ]
  },
  {
   "cell_type": "markdown",
   "id": "d33c317e-1074-4690-8c47-533a9c93e131",
   "metadata": {},
   "source": [
    "# Question No 5"
   ]
  },
  {
   "cell_type": "raw",
   "id": "4d00875a-ebf6-4248-9b89-1e7f99019ea0",
   "metadata": {},
   "source": [
    "Write a recursive method binary() that takes a non-negativeinteger n and prints the binary representation of integer n.\n",
    ">>> binary(0)\n",
    "0\n",
    ">>> binary(1)\n",
    "1\n",
    ">>> binary(3)\n",
    "11\n",
    ">>> binary(9)\n",
    "1001"
   ]
  },
  {
   "cell_type": "code",
   "execution_count": 55,
   "id": "691f8b29-bf80-4df4-a50e-fbeb1af6a15c",
   "metadata": {},
   "outputs": [],
   "source": [
    "def binary(a):\n",
    "    if a == 0:\n",
    "        output = '0'\n",
    "    elif a == 1:\n",
    "        output = '1'\n",
    "    else:\n",
    "        output = binary(a // 2) + str(a % 2)\n",
    "    \n",
    "    print(output)\n",
    "    return(output)"
   ]
  },
  {
   "cell_type": "code",
   "execution_count": 56,
   "id": "ea7fab1b-4e0d-46d6-805a-f4f3f786be94",
   "metadata": {},
   "outputs": [
    {
     "name": "stdout",
     "output_type": "stream",
     "text": [
      "0\n"
     ]
    },
    {
     "data": {
      "text/plain": [
       "'0'"
      ]
     },
     "execution_count": 56,
     "metadata": {},
     "output_type": "execute_result"
    }
   ],
   "source": [
    "binary(0)"
   ]
  },
  {
   "cell_type": "code",
   "execution_count": 57,
   "id": "d20da44c-68e5-4917-bd28-b67c8f0e9767",
   "metadata": {},
   "outputs": [
    {
     "name": "stdout",
     "output_type": "stream",
     "text": [
      "1\n"
     ]
    },
    {
     "data": {
      "text/plain": [
       "'1'"
      ]
     },
     "execution_count": 57,
     "metadata": {},
     "output_type": "execute_result"
    }
   ],
   "source": [
    "binary(1)"
   ]
  },
  {
   "cell_type": "code",
   "execution_count": 58,
   "id": "eed286d8-03b0-4654-b308-601ed4c74bf8",
   "metadata": {},
   "outputs": [
    {
     "name": "stdout",
     "output_type": "stream",
     "text": [
      "1\n",
      "11\n"
     ]
    },
    {
     "data": {
      "text/plain": [
       "'11'"
      ]
     },
     "execution_count": 58,
     "metadata": {},
     "output_type": "execute_result"
    }
   ],
   "source": [
    "binary(3)"
   ]
  },
  {
   "cell_type": "code",
   "execution_count": 59,
   "id": "4b6366c0-7a3b-4905-a215-98e819528801",
   "metadata": {},
   "outputs": [
    {
     "name": "stdout",
     "output_type": "stream",
     "text": [
      "1\n",
      "10\n",
      "100\n",
      "1001\n"
     ]
    },
    {
     "data": {
      "text/plain": [
       "'1001'"
      ]
     },
     "execution_count": 59,
     "metadata": {},
     "output_type": "execute_result"
    }
   ],
   "source": [
    "binary(9)"
   ]
  },
  {
   "cell_type": "markdown",
   "id": "3aa24b3a-df0f-4862-b136-be5c3c2a32e0",
   "metadata": {},
   "source": [
    "# Question No 6"
   ]
  },
  {
   "cell_type": "raw",
   "id": "3c04e8c7-d8b1-4c7c-9c4e-3a99da993241",
   "metadata": {},
   "source": [
    "Implement a class named HeadingParser that can be used to parse an HTMLdocument, and retrieve and print all the headings in the document. \n",
    "You shouldimplement your class as a subclass of HTMLParser, defined in Standard Librarymodule html.parser. When fed a string containing HTML code, \n",
    "your class shouldprint the headings, one per line and in the order in which they appear in thedocument. Each heading should be indented as follows: \n",
    "an h1 heading should have indentation 0, and h2 heading should have indentation 1, etc. Test yourimplementation using w3c.html.\n",
    "\n",
    ">>> infile = open('w3c.html')\n",
    ">>> content = infile.read()\n",
    ">>> infile.close()\n",
    ">>> hp = HeadingParser()\n",
    ">>> hp.feed(content)\n",
    "W3C Mission\n",
    "    Principle"
   ]
  },
  {
   "cell_type": "code",
   "execution_count": 64,
   "id": "f09c2464-e9f6-4e1a-97d8-295e2cc20034",
   "metadata": {},
   "outputs": [
    {
     "name": "stdout",
     "output_type": "stream",
     "text": [
      "W3C Mission  \n",
      "\t  Principles  \n",
      " \n",
      "\n",
      "\n",
      "  \n",
      "  "
     ]
    }
   ],
   "source": [
    "from html.parser import HTMLParser\n",
    "\n",
    "class HeadingParser(HTMLParser):\n",
    "    obj = False\n",
    "    def __init__(self):\n",
    "        HTMLParser.__init__(self)\n",
    "\n",
    "    def handle_starttag(self,tag,attrs):\n",
    "        if tag == \"h1\":\n",
    "            self.obj = True\n",
    "        elif tag == \"h2\":\n",
    "            self.obj = True\n",
    "    \n",
    "    def handle_data(self,data):\n",
    "        if self.obj:\n",
    "            print(data, end = \"  \")\n",
    "            \n",
    "infile = open('w3c.txt')\n",
    "content = infile.read()\n",
    "infile.close()\n",
    "hp = HeadingParser()\n",
    "hp.feed(content)"
   ]
  },
  {
   "cell_type": "markdown",
   "id": "59e8f288-06d1-446c-8e05-82ea044b3483",
   "metadata": {},
   "source": [
    "# Question No 7"
   ]
  },
  {
   "cell_type": "raw",
   "id": "9c39d51c-3834-443d-a768-6ba7f2b0ab83",
   "metadata": {},
   "source": [
    "Implement recursive function webdir() that takes as input: a URL (as a string) andnon-negative integers depth and indent. Your function should visit every webpage reachable from the starting URL web page in depth clicks or less, and printeach web page's URL. As shown below, indentation, specified by indent, shouldbe used to indicate the depth of a URL.\n",
    "\n",
    ">>>webdir('http://reed.cs.depaul.edu/lperkovic/csc242/test1.html', 2, 0)\n",
    "http://reed.cs.depaul.edu/lperkovic/csc242/test1.html\n",
    "    http://reed.cs.depaul.edu/lperkovic/csc242/test2.html\n",
    "        http://reed.cs.depaul.edu/lperkovic/csc242/test4.html\n",
    "            http://reed.cs.depaul.edu/lperkovic/csc242/test3.html\n",
    "                http://reed.cs.depaul.edu/lperkovic/csc242/test4.html"
   ]
  },
  {
   "cell_type": "code",
   "execution_count": 70,
   "id": "b1311c9a-9cea-4294-9f6e-b70acf2baa4c",
   "metadata": {},
   "outputs": [
    {
     "name": "stdout",
     "output_type": "stream",
     "text": [
      "https://www.linkedin.com/\n",
      "  https://www.linkedin.com/#main-content\n",
      "    https://www.linkedin.com/legal/user-agreement?trk=guest_homepage-basic_google-auth-button_user-agreement\n",
      "    https://www.linkedin.com/legal/privacy-policy?trk=guest_homepage-basic_google-auth-button_privacy-policy\n",
      "    https://www.linkedin.com/legal/cookie-policy?trk=guest_homepage-basic_google-auth-button_cookie-policy\n",
      "    https://www.linkedin.com/?trk=guest_homepage-basic_nav-header-logo\n",
      "    https://www.linkedin.com/pulse/topics/home/?trk=guest_homepage-basic_guest_nav_menu_articles\n",
      "    https://www.linkedin.com/pub/dir/+/+?trk=guest_homepage-basic_guest_nav_menu_people\n",
      "    https://www.linkedin.com/learning/search?trk=guest_homepage-basic_guest_nav_menu_learning\n",
      "    https://www.linkedin.com/jobs/search?trk=guest_homepage-basic_guest_nav_menu_jobs\n",
      "    https://www.linkedin.com/signup?trk=guest_homepage-basic_nav-header-join\n",
      "    https://www.linkedin.com/login?fromSignIn=true&trk=guest_homepage-basic_nav-header-signin\n",
      "    https://www.linkedin.com/uas/request-password-reset?trk=homepage-basic_forgot_password\n",
      "    https://www.linkedin.com/legal/user-agreement?trk=homepage-basic_auth-button_user-agreement\n",
      "    https://www.linkedin.com/legal/privacy-policy?trk=homepage-basic_auth-button_privacy-policy\n",
      "    https://www.linkedin.com/legal/cookie-policy?trk=homepage-basic_auth-button_cookie-policy\n",
      "    https://www.linkedin.com/signup\n",
      "    https://www.linkedin.com/pulse/topics/marketing-s2461/\n",
      "    https://www.linkedin.com/pulse/topics/public-administration-s3697/\n",
      "    https://www.linkedin.com/pulse/topics/healthcare-s282/\n",
      "    https://www.linkedin.com/pulse/topics/engineering-s166/\n",
      "    https://www.linkedin.com/pulse/topics/it-services-s57547/\n",
      "    https://www.linkedin.com/pulse/topics/sustainability-s932/\n",
      "    https://www.linkedin.com/pulse/topics/business-administration-s50111/\n",
      "    https://www.linkedin.com/pulse/topics/telecommunications-s314/\n",
      "    https://www.linkedin.com/pulse/topics/hr-management-s50359/\n",
      "    https://www.linkedin.com/pulse/topics/home/\n",
      "    https://www.linkedin.com/jobs/engineering-jobs-barrie-on?trk=homepage-basic_suggested-search\n",
      "    https://www.linkedin.com/jobs/business-development-jobs-barrie-on?trk=homepage-basic_suggested-search\n",
      "    https://www.linkedin.com/jobs/finance-jobs-barrie-on?trk=homepage-basic_suggested-search\n",
      "    https://www.linkedin.com/jobs/administrative-assistant-jobs-barrie-on?trk=homepage-basic_suggested-search\n",
      "    https://www.linkedin.com/jobs/retail-associate-jobs-barrie-on?trk=homepage-basic_suggested-search\n",
      "    https://www.linkedin.com/jobs/customer-service-jobs-barrie-on?trk=homepage-basic_suggested-search\n",
      "    https://www.linkedin.com/jobs/operations-jobs-barrie-on?trk=homepage-basic_suggested-search\n",
      "    https://www.linkedin.com/jobs/information-technology-jobs-barrie-on?trk=homepage-basic_suggested-search\n",
      "    https://www.linkedin.com/jobs/marketing-jobs-barrie-on?trk=homepage-basic_suggested-search\n",
      "    https://www.linkedin.com/jobs/human-resources-jobs-barrie-on?trk=homepage-basic_suggested-search\n",
      "    https://www.linkedin.com/jobs/healthcare-services-jobs-barrie-on?trk=homepage-basic_suggested-search\n",
      "    https://www.linkedin.com/jobs/sales-jobs-barrie-on?trk=homepage-basic_suggested-search\n",
      "    https://www.linkedin.com/jobs/program-and-project-management-jobs-barrie-on?trk=homepage-basic_suggested-search\n",
      "    https://www.linkedin.com/jobs/accounting-jobs-barrie-on?trk=homepage-basic_suggested-search\n",
      "    https://www.linkedin.com/jobs/arts-and-design-jobs-barrie-on?trk=homepage-basic_suggested-search\n",
      "    https://www.linkedin.com/jobs/community-and-social-services-jobs-barrie-on?trk=homepage-basic_suggested-search\n",
      "    https://www.linkedin.com/jobs/consulting-jobs-barrie-on?trk=homepage-basic_suggested-search\n",
      "    https://www.linkedin.com/jobs/education-jobs-barrie-on?trk=homepage-basic_suggested-search\n",
      "    https://www.linkedin.com/jobs/entrepreneurship-jobs-barrie-on?trk=homepage-basic_suggested-search\n",
      "    https://www.linkedin.com/jobs/legal-jobs-barrie-on?trk=homepage-basic_suggested-search\n",
      "    https://www.linkedin.com/jobs/media-and-communications-jobs-barrie-on?trk=homepage-basic_suggested-search\n",
      "    https://www.linkedin.com/jobs/military-and-protective-services-jobs-barrie-on?trk=homepage-basic_suggested-search\n",
      "    https://www.linkedin.com/jobs/product-management-jobs-barrie-on?trk=homepage-basic_suggested-search\n",
      "    https://www.linkedin.com/jobs/purchasing-jobs-barrie-on?trk=homepage-basic_suggested-search\n",
      "    https://www.linkedin.com/jobs/quality-assurance-jobs-barrie-on?trk=homepage-basic_suggested-search\n",
      "    https://www.linkedin.com/jobs/real-estate-jobs-barrie-on?trk=homepage-basic_suggested-search\n",
      "    https://www.linkedin.com/jobs/research-jobs-barrie-on?trk=homepage-basic_suggested-search\n",
      "    https://www.linkedin.com/jobs/support-jobs-barrie-on?trk=homepage-basic_suggested-search\n",
      "    https://www.linkedin.com/jobs/administrative-jobs-barrie-on?trk=homepage-basic_suggested-search\n",
      "    https://www.linkedin.com/talent/post-a-job?trk=homepage-basic_talent-finder-cta\n",
      "    https://www.linkedin.com/products/categories/e-commerce-platforms\n",
      "    https://www.linkedin.com/products/categories/customer-relationship-management-software\n",
      "    https://www.linkedin.com/products/categories/human-resources-management-systems\n",
      "    https://www.linkedin.com/products/categories/recruiting-software\n",
      "    https://www.linkedin.com/products/categories/sales-intelligence-software\n",
      "    https://www.linkedin.com/products/categories/project-management-software\n",
      "    https://www.linkedin.com/products/categories/help-desk-software\n",
      "    https://www.linkedin.com/products/categories/social-networking-software\n",
      "    https://www.linkedin.com/products/categories/desktop-publishing-software\n",
      "    https://www.linkedin.com/products/home\n",
      "    https://www.linkedin.com/pub/dir/+/+?trk=homepage-basic\n",
      "    https://www.linkedin.com/learning/topics/business-analysis-and-strategy?trk=homepage-basic_learning-cta\n",
      "    https://www.linkedin.com/learning/topics/business-software-and-tools?trk=homepage-basic_learning-cta\n",
      "    https://www.linkedin.com/learning/topics/career-development-5?trk=homepage-basic_learning-cta\n",
      "    https://www.linkedin.com/learning/topics/customer-service-3?trk=homepage-basic_learning-cta\n",
      "    https://www.linkedin.com/learning/topics/diversity-equity-and-inclusion-dei?trk=homepage-basic_learning-cta\n",
      "    https://www.linkedin.com/learning/topics/finance-and-accounting?trk=homepage-basic_learning-cta\n",
      "    https://www.linkedin.com/learning/topics/human-resources-3?trk=homepage-basic_learning-cta\n",
      "    https://www.linkedin.com/learning/topics/leadership-and-management?trk=homepage-basic_learning-cta\n",
      "    https://www.linkedin.com/learning/topics/marketing-2?trk=homepage-basic_learning-cta\n",
      "    https://www.linkedin.com/learning/topics/professional-development?trk=homepage-basic_learning-cta\n",
      "    https://www.linkedin.com/learning/topics/project-management?trk=homepage-basic_learning-cta\n",
      "    https://www.linkedin.com/learning/topics/sales-3?trk=homepage-basic_learning-cta\n",
      "    https://www.linkedin.com/learning/topics/small-business-and-entrepreneurship?trk=homepage-basic_learning-cta\n",
      "    https://www.linkedin.com/learning/topics/training-and-education?trk=homepage-basic_learning-cta\n",
      "    https://www.linkedin.com/learning/topics/aec?trk=homepage-basic_learning-cta\n",
      "    https://www.linkedin.com/learning/topics/animation-and-illustration?trk=homepage-basic_learning-cta\n",
      "    https://www.linkedin.com/learning/topics/audio-and-music?trk=homepage-basic_learning-cta\n",
      "    https://www.linkedin.com/learning/topics/graphic-design?trk=homepage-basic_learning-cta\n",
      "    https://www.linkedin.com/learning/topics/motion-graphics-and-vfx?trk=homepage-basic_learning-cta\n",
      "    https://www.linkedin.com/learning/topics/photography-2?trk=homepage-basic_learning-cta\n",
      "    https://www.linkedin.com/learning/topics/product-and-manufacturing?trk=homepage-basic_learning-cta\n",
      "    https://www.linkedin.com/learning/topics/user-experience?trk=homepage-basic_learning-cta\n",
      "    https://www.linkedin.com/learning/topics/video-2?trk=homepage-basic_learning-cta\n",
      "    https://www.linkedin.com/learning/topics/visualization-and-real-time?trk=homepage-basic_learning-cta\n",
      "    https://www.linkedin.com/learning/topics/web-design?trk=homepage-basic_learning-cta\n",
      "    https://www.linkedin.com/learning/topics/artificial-intelligence?trk=homepage-basic_learning-cta\n",
      "    https://www.linkedin.com/learning/topics/cloud-computing-5?trk=homepage-basic_learning-cta\n",
      "    https://www.linkedin.com/learning/topics/data-science?trk=homepage-basic_learning-cta\n",
      "    https://www.linkedin.com/learning/topics/database-management?trk=homepage-basic_learning-cta\n",
      "    https://www.linkedin.com/learning/topics/devops?trk=homepage-basic_learning-cta\n",
      "    https://www.linkedin.com/learning/topics/hardware?trk=homepage-basic_learning-cta\n",
      "    https://www.linkedin.com/learning/topics/it-help-desk-5?trk=homepage-basic_learning-cta\n",
      "    https://www.linkedin.com/learning/topics/mobile-development?trk=homepage-basic_learning-cta\n",
      "    https://www.linkedin.com/learning/topics/network-and-system-administration?trk=homepage-basic_learning-cta\n",
      "    https://www.linkedin.com/learning/topics/security-3?trk=homepage-basic_learning-cta\n",
      "    https://www.linkedin.com/learning/topics/software-development?trk=homepage-basic_learning-cta\n",
      "    https://www.linkedin.com/learning/topics/web-development?trk=homepage-basic_learning-cta\n",
      "    https://www.linkedin.com/pub/dir/+/+?trk=homepage-basic_brand-discovery_intent-module-firstBtn\n",
      "    https://www.linkedin.com/jobs/jobs-in-barrie-on?trk=homepage-basic_brand-discovery_intent-module-secondBtn\n",
      "    https://www.linkedin.com/learning/search?trk=homepage-basic_brand-discovery_intent-module-thirdBtn\n",
      "    https://www.linkedin.com/signup?trk=homepage-basic_join-cta\n",
      "    https://www.linkedin.com/signup?trk=guest_homepage-basic_directory\n",
      "    https://www.linkedin.com/help/linkedin?lang=en&trk=homepage-basic_directory_helpCenterUrl\n",
      "    https://about.linkedin.com/?trk=homepage-basic_directory_aboutUrl\n",
      "    https://press.linkedin.com/?trk=homepage-basic_directory_pressMicrositeUrl\n",
      "    https://blog.linkedin.com/?trk=homepage-basic_directory_blogMicrositeUrl\n",
      "    https://www.linkedin.com/company/linkedin/jobs?trk=homepage-basic_directory_careersUrl\n",
      "    https://developer.linkedin.com/?trk=homepage-basic_directory_developerMicrositeUrl\n",
      "    https://www.linkedin.com/learning/?trk=homepage-basic_directory_learningHomeUrl\n",
      "    https://www.linkedin.com/jobs?trk=homepage-basic_directory_jobsHomeUrl\n",
      "    https://www.linkedin.com/salary/?trk=homepage-basic_directory_salaryHomeUrl\n",
      "    https://mobile.linkedin.com/?trk=homepage-basic_directory_mobileMicrositeUrl\n",
      "    https://www.linkedin.com/services?trk=homepage-basic_directory_servicesHomeUrl\n",
      "    https://www.linkedin.com/products?trk=homepage-basic_directory_productsHomeUrl\n",
      "    https://www.linkedin.com/hubs/top-companies/?trk=homepage-basic_directory_topCompaniesHubHomeUrl\n",
      "    https://business.linkedin.com/talent-solutions?src=li-footer&utm_source=linkedin&utm_medium=footer&trk=homepage-basic_directory_talentSolutionsMicrositeUrl\n",
      "    https://business.linkedin.com/marketing-solutions?src=li-footer&utm_source=linkedin&utm_medium=footer&trk=homepage-basic_directory_marketingSolutionsMicrositeUrl\n",
      "    https://business.linkedin.com/sales-solutions?src=li-footer&utm_source=linkedin&utm_medium=footer&trk=homepage-basic_directory_salesSolutionsMicrositeUrl\n",
      "    https://learning.linkedin.com/?src=li-footer&trk=homepage-basic_directory_learningMicrositeUrl\n",
      "    https://www.linkedin.com/directory/people?trk=homepage-basic_directory_peopleDirectoryUrl\n",
      "    https://www.linkedin.com/directory/jobs?trk=homepage-basic_directory_jobSearchDirectoryUrl\n",
      "    https://www.linkedin.com/directory/companies?trk=homepage-basic_directory_companyDirectoryUrl\n",
      "    https://www.linkedin.com/directory/featured?trk=homepage-basic_directory_featuredDirectoryUrl\n",
      "    https://www.linkedin.com/directory/learning?trk=homepage-basic_directory_learningDirectoryUrl\n",
      "    https://www.linkedin.com/directory/posts?trk=homepage-basic_directory_postsDirectoryUrl\n",
      "    https://www.linkedin.com/directory/articles?trk=homepage-basic_directory_articlesDirectoryUrl\n",
      "    https://www.linkedin.com/directory/schools?trk=homepage-basic_directory_schoolsDirectoryUrl\n",
      "    https://www.linkedin.com/directory/news?trk=homepage-basic_directory_newsDirectoryUrl\n",
      "    https://www.linkedin.com/directory/newsletters?trk=homepage-basic_directory_newslettersDirectoryUrl\n",
      "    https://www.linkedin.com/directory/services?trk=homepage-basic_directory_servicesDirectoryUrl\n",
      "    https://www.linkedin.com/directory/products?trk=homepage-basic_directory_productsDirectoryUrl\n",
      "    https://www.linkedin.com/directory/advice?trk=homepage-basic_directory_adviceDirectoryUrl\n",
      "    https://www.linkedin.com/directory/people-search?trk=homepage-basic_directory_peopleSearchDirectoryUrl\n",
      "    https://about.linkedin.com?trk=homepage-basic_footer-about\n",
      "    https://www.linkedin.com/accessibility?trk=homepage-basic_footer-accessibility\n",
      "    https://www.linkedin.com/legal/user-agreement?trk=homepage-basic_footer-user-agreement\n",
      "    https://www.linkedin.com/legal/privacy-policy?trk=homepage-basic_footer-privacy-policy\n",
      "    https://www.linkedin.com/legal/cookie-policy?trk=homepage-basic_footer-cookie-policy\n",
      "    https://www.linkedin.com/legal/copyright-policy?trk=homepage-basic_footer-copyright-policy\n",
      "    https://brand.linkedin.com/policies?trk=homepage-basic_footer-brand-policy\n",
      "    https://www.linkedin.com/psettings/guest-controls?trk=homepage-basic_footer-guest-controls\n",
      "    https://www.linkedin.com/legal/professional-community-policies?trk=homepage-basic_footer-community-guide\n"
     ]
    }
   ],
   "source": [
    "import requests\n",
    "from bs4 import BeautifulSoup\n",
    "from urllib.parse import urljoin\n",
    "\n",
    "def webdir(url, depth, indent):\n",
    "    visited = set()  # Note visited URLs to avoid loops\n",
    "\n",
    "    def _visit(url, current_depth, current_indent):\n",
    "        if url in visited or current_depth > depth:\n",
    "            return\n",
    "        visited.add(url)\n",
    "\n",
    "        # Print the URL\n",
    "        print(' ' * current_indent + url)\n",
    "\n",
    "        \n",
    "        if current_depth == depth:\n",
    "            return\n",
    "\n",
    "        try:\n",
    "            # get the page\n",
    "            response = requests.get(url)\n",
    "            response.raise_for_status()  # Check for request errors\n",
    "\n",
    "            # Parse the HTML content\n",
    "            soup = BeautifulSoup(response.text, 'html.parser')\n",
    "\n",
    "            # locate every hyperlink on the page\n",
    "            for link in soup.find_all('a', href=True):\n",
    "                \n",
    "                next_url = urljoin(url, link['href'])\n",
    "                _visit(next_url, current_depth + 1, current_indent + indent)\n",
    "        except requests.RequestException:\n",
    "            pass  # exclude pages that cannot be retrieved.\n",
    "\n",
    "    # Start the recursive visiting from the URL\n",
    "    _visit(url, 0, 0)\n",
    "\n",
    "# Example usage\n",
    "webdir('https://www.linkedin.com/', 2, 2)"
   ]
  },
  {
   "cell_type": "markdown",
   "id": "50679cef-0731-46d8-a2b5-a1a3c3774bc1",
   "metadata": {},
   "source": [
    "# Question No 8\n",
    "Write SQL queries on the below database table that return:"
   ]
  },
  {
   "cell_type": "raw",
   "id": "de38c75a-390c-42ea-9c6c-f20d77970613",
   "metadata": {},
   "source": [
    "a. All the temperature data."
   ]
  },
  {
   "cell_type": "code",
   "execution_count": null,
   "id": "9f72c929-39b5-487d-82f7-76daf9b81f76",
   "metadata": {},
   "outputs": [],
   "source": [
    "SELECT Temperature FROM Weather;"
   ]
  },
  {
   "cell_type": "raw",
   "id": "bc3c1b06-ced9-41c4-aba5-592c8013d45d",
   "metadata": {},
   "source": [
    "b. All the cities, but without repetition."
   ]
  },
  {
   "cell_type": "code",
   "execution_count": null,
   "id": "3712f252-09de-44c1-8a50-9e1833708369",
   "metadata": {},
   "outputs": [],
   "source": [
    "SELECT DISTINCT City FROM Weather;"
   ]
  },
  {
   "cell_type": "raw",
   "id": "513f8cd1-6187-4543-b656-49659a78af2d",
   "metadata": {},
   "source": [
    "c. All the records for India."
   ]
  },
  {
   "cell_type": "code",
   "execution_count": null,
   "id": "3dcc7c3b-7b40-4228-8ebb-e5c1101d70f5",
   "metadata": {},
   "outputs": [],
   "source": [
    "SELECT * FROM Weather WHERE Country = 'India';"
   ]
  },
  {
   "cell_type": "raw",
   "id": "76884c70-8ab4-4dbc-8f22-dc71106e2215",
   "metadata": {},
   "source": [
    "d. All the Fall records."
   ]
  },
  {
   "cell_type": "code",
   "execution_count": null,
   "id": "5273c917-f43b-4a72-b68f-73c7cda5683f",
   "metadata": {},
   "outputs": [],
   "source": [
    "SELECT * FROM Weather WHERE Season = 'Fall';"
   ]
  },
  {
   "cell_type": "raw",
   "id": "b80b2e17-ff98-401b-847f-95dc485ab280",
   "metadata": {},
   "source": [
    "e. The city, country, and season for which the average rainfall is between 200 and 400 millimeters."
   ]
  },
  {
   "cell_type": "code",
   "execution_count": null,
   "id": "b57a6a96-f4d5-4d97-b5e3-d4b7681d4b72",
   "metadata": {},
   "outputs": [],
   "source": [
    "SELECT City, Country, Season FROM Weather WHERE Rainfall BETWEEN 200 AND 400;"
   ]
  },
  {
   "cell_type": "raw",
   "id": "c1e9db77-6ce3-4712-afb7-75eaeee9ccb1",
   "metadata": {},
   "source": [
    "f. The city and country for which the average Fall temperature is above 20 degrees, in increasing temperature order."
   ]
  },
  {
   "cell_type": "code",
   "execution_count": null,
   "id": "d36b6ad3-37ea-4c1d-8252-3a23a75784c0",
   "metadata": {},
   "outputs": [],
   "source": [
    "SELECT City, Country FROM Weather WHERE Season = 'Fall' AND Temperature > 20 ORDER BY Temperature;"
   ]
  },
  {
   "cell_type": "raw",
   "id": "b1f808be-a87f-4767-afb0-e47c9a545c12",
   "metadata": {},
   "source": [
    "g. The total annual rainfall for Cairo."
   ]
  },
  {
   "cell_type": "code",
   "execution_count": null,
   "id": "390bf726-6d5b-40a1-acf0-d8681860127e",
   "metadata": {},
   "outputs": [],
   "source": [
    "SELECT SUM(Rainfall) AS Total_Annual_Rainfall FROM Weather WHERE City = 'Cairo';"
   ]
  },
  {
   "cell_type": "raw",
   "id": "068696c7-a6a7-417a-a3d0-af3a6917c453",
   "metadata": {},
   "source": [
    "h. The total rainfall for each season."
   ]
  },
  {
   "cell_type": "code",
   "execution_count": null,
   "id": "73b518b7-d53d-4560-aeb8-06d24cad3a96",
   "metadata": {},
   "outputs": [],
   "source": [
    "SELECT Season, SUM(Rainfall) AS Total_Rainfall FROM Weather GROUP BY Season;"
   ]
  },
  {
   "cell_type": "markdown",
   "id": "6732133b-eaae-4819-8733-bb749893013f",
   "metadata": {},
   "source": [
    "# Question No 9"
   ]
  },
  {
   "cell_type": "raw",
   "id": "2c348b5e-2692-43f6-b048-2949c4a10542",
   "metadata": {},
   "source": [
    " Suppose list words is defined as follows:\n",
    ">>> words = ['The', 'quick', 'brown', 'fox', 'jumps', 'over','the', 'lazy', 'dog']\n",
    "Write list comprehension expressions that use list words and generate the followinglists:\n",
    "\n",
    "a) ['THE', 'QUICK', 'BROWN', 'FOX', 'JUMPS', 'OVER', 'THE','LAZY', 'DOG']\n",
    "b) ['the', 'quick', 'brown', 'fox', 'jumps', 'over', 'the','lazy', 'dog']\n",
    "c) [3, 5, 5, 3, 5, 4, 3, 4, 3] (the list of lengths of words in listwords).\n",
    "d) [['THE', 'the', 3], ['QUICK', 'quick', 5], ['BROWN','brown', 5], ['FOX', 'fox', 3], ['JUMPS', 'jumps', 5],['OVER', 'over', 4], ['THE', 'the', 3], ['LAZY', 'lazy',4], ['DOG', 'dog', 3]] (the list containing a list for every word of listwords, where each list contains the word in uppercase and lowercase and thelength of the word.)\n",
    "e) ['The', 'quick', 'brown', 'fox', 'jumps', 'over', 'the','lazy', 'dog'] (the list of words in list words containing 4 or morecharacters.)"
   ]
  },
  {
   "cell_type": "code",
   "execution_count": 74,
   "id": "a1cdfe25-7db9-4a69-8b5c-85503230cf76",
   "metadata": {},
   "outputs": [],
   "source": [
    "words = ['The', 'quick', 'brown', 'fox', 'jumps', 'over', 'the', 'lazy', 'dog']\n",
    "\n",
    "UPPERCASE = [word.upper() for word in words] \n",
    "\n",
    "lowercase = [word.lower() for word in words]\n",
    "\n",
    "lengths = [len(word) for word in words]\n",
    "\n",
    "jumbled = [[word.upper(), word.lower(), len(word)] for word in words]\n",
    "\n",
    "four_or_more_characters = [word for word in words if len(word) >= 4]\n"
   ]
  },
  {
   "cell_type": "code",
   "execution_count": 75,
   "id": "7004577b-3e6e-46a0-b15a-948266014ea6",
   "metadata": {},
   "outputs": [
    {
     "data": {
      "text/plain": [
       "['THE', 'QUICK', 'BROWN', 'FOX', 'JUMPS', 'OVER', 'THE', 'LAZY', 'DOG']"
      ]
     },
     "execution_count": 75,
     "metadata": {},
     "output_type": "execute_result"
    }
   ],
   "source": [
    "# \"a\" \n",
    "UPPERCASE"
   ]
  },
  {
   "cell_type": "code",
   "execution_count": 76,
   "id": "19ff2dd1-bfbe-4cf1-8baa-7c25408a9018",
   "metadata": {},
   "outputs": [
    {
     "data": {
      "text/plain": [
       "['the', 'quick', 'brown', 'fox', 'jumps', 'over', 'the', 'lazy', 'dog']"
      ]
     },
     "execution_count": 76,
     "metadata": {},
     "output_type": "execute_result"
    }
   ],
   "source": [
    "# \"b\"\n",
    "lowercase"
   ]
  },
  {
   "cell_type": "code",
   "execution_count": 77,
   "id": "f333c639-d6c2-4357-9263-3057b13b87c1",
   "metadata": {},
   "outputs": [
    {
     "data": {
      "text/plain": [
       "[3, 5, 5, 3, 5, 4, 3, 4, 3]"
      ]
     },
     "execution_count": 77,
     "metadata": {},
     "output_type": "execute_result"
    }
   ],
   "source": [
    "# \"c\"\n",
    "lengths"
   ]
  },
  {
   "cell_type": "code",
   "execution_count": 78,
   "id": "e669e02d-46b1-4e19-97dd-6b6871c0d2db",
   "metadata": {},
   "outputs": [
    {
     "data": {
      "text/plain": [
       "[['THE', 'the', 3],\n",
       " ['QUICK', 'quick', 5],\n",
       " ['BROWN', 'brown', 5],\n",
       " ['FOX', 'fox', 3],\n",
       " ['JUMPS', 'jumps', 5],\n",
       " ['OVER', 'over', 4],\n",
       " ['THE', 'the', 3],\n",
       " ['LAZY', 'lazy', 4],\n",
       " ['DOG', 'dog', 3]]"
      ]
     },
     "execution_count": 78,
     "metadata": {},
     "output_type": "execute_result"
    }
   ],
   "source": [
    "# \"d\"\n",
    "jumbled"
   ]
  },
  {
   "cell_type": "code",
   "execution_count": 81,
   "id": "468a5038-f85f-4c14-b06c-297168a9c877",
   "metadata": {},
   "outputs": [
    {
     "data": {
      "text/plain": [
       "['quick', 'brown', 'jumps', 'over', 'lazy']"
      ]
     },
     "execution_count": 81,
     "metadata": {},
     "output_type": "execute_result"
    }
   ],
   "source": [
    "# \"e\"\n",
    "four_or_more_characters"
   ]
  }
 ],
 "metadata": {
  "kernelspec": {
   "display_name": "Python 3 (ipykernel)",
   "language": "python",
   "name": "python3"
  },
  "language_info": {
   "codemirror_mode": {
    "name": "ipython",
    "version": 3
   },
   "file_extension": ".py",
   "mimetype": "text/x-python",
   "name": "python",
   "nbconvert_exporter": "python",
   "pygments_lexer": "ipython3",
   "version": "3.11.7"
  }
 },
 "nbformat": 4,
 "nbformat_minor": 5
}
